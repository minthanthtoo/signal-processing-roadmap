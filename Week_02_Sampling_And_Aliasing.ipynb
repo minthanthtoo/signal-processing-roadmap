{
 "cells": [
  {
   "cell_type": "markdown",
   "metadata": {},
   "source": [
    "# 📘 Week 2: Sampling & Aliasing\n",
    "\n",
    "## 🎯 Objectives:\n",
    "- Understand the concept of sampling in time domain\n",
    "- Explore Nyquist rate and aliasing\n",
    "- Visualize undersampling effects\n",
    "- Experiment with reconstruction techniques"
   ]
  },
  {
   "cell_type": "markdown",
   "metadata": {},
   "source": [
    "## 🎵 Original Signal (High Frequency Sine)\n",
    "Let's generate a high-frequency sine wave and plot it in continuous form."
   ]
  },
  {
   "cell_type": "code",
   "execution_count": null,
   "metadata": {},
   "outputs": [],
   "source": [
    "import numpy as np\n",
    "import matplotlib.pyplot as plt\n",
    "\n",
    "fs_cont = 1000  # High sample rate\n",
    "t_cont = np.linspace(0, 1, fs_cont, endpoint=False)\n",
    "f = 100  # Frequency of sine wave\n",
    "signal_cont = np.sin(2 * np.pi * f * t_cont)\n",
    "\n",
    "plt.figure(figsize=(10, 3))\n",
    "plt.plot(t_cont, signal_cont)\n",
    "plt.title('Original Continuous-Time Signal (100 Hz)')\n",
    "plt.xlabel('Time [s]')\n",
    "plt.ylabel('Amplitude')\n",
    "plt.grid(True)\n",
    "plt.show()"
   ]
  },
  {
   "cell_type": "markdown",
   "metadata": {},
   "source": [
    "## 🔄 Sampling at Different Rates\n",
    "- Nyquist rate: $2f = 200$ Hz\n",
    "- Undersampling at 150 Hz and 80 Hz"
   ]
  },
  {
   "cell_type": "code",
   "execution_count": null,
   "metadata": {},
   "outputs": [],
   "source": [
    "def sample_and_plot(fs, color):\n",
    "    t = np.linspace(0, 1, fs, endpoint=False)\n",
    "    samples = np.sin(2 * np.pi * f * t)\n",
    "    plt.stem(t, samples, linefmt=color, markerfmt=color+'o', basefmt=' ', label=f'Sampled @ {fs} Hz')\n",
    "\n",
    "plt.figure(figsize=(12, 4))\n",
    "plt.plot(t_cont, signal_cont, label='Original', alpha=0.6)\n",
    "sample_and_plot(200, 'g')\n",
    "sample_and_plot(150, 'r')\n",
    "sample_and_plot(80, 'b')\n",
    "plt.title('Effect of Sampling Rates')\n",
    "plt.legend()\n",
    "plt.grid(True)\n",
    "plt.show()"
   ]
  },
  {
   "cell_type": "markdown",
   "metadata": {},
   "source": [
    "## 🌀 Aliasing Demonstration\n",
    "- Show how a 100 Hz sine wave appears if sampled at 80 Hz\n",
    "- Alias frequency = |f - fs| = |100 - 80| = 20 Hz (wrong frequency!)"
   ]
  },
  {
   "cell_type": "code",
   "execution_count": null,
   "metadata": {},
   "outputs": [],
   "source": [
    "fs_alias = 80\n",
    "t_alias = np.linspace(0, 1, fs_alias, endpoint=False)\n",
    "samples_alias = np.sin(2 * np.pi * f * t_alias)\n",
    "\n",
    "plt.stem(t_alias, samples_alias, basefmt=' ', label='Aliased Samples')\n",
    "plt.plot(t_alias, np.sin(2 * np.pi * 20 * t_alias), 'r--', label='Alias (20 Hz)')\n",
    "plt.title('Aliasing: Original vs Perceived Frequency')\n",
    "plt.legend()\n",
    "plt.grid(True)\n",
    "plt.show()"
   ]
  },
  {
   "cell_type": "markdown",
   "metadata": {},
   "source": [
    "## 🔁 Interpolation (Reconstruction)\n",
    "- Reconstruct signal using zero-order hold and sinc interpolation"
   ]
  },
  {
   "cell_type": "code",
   "execution_count": null,
   "metadata": {}, 
   "outputs": [],
   "source": [
    "from scipy.signal import resample\n",
    "\n",
    "fs_sample = 200\n",
    "t_sample = np.linspace(0, 1, fs_sample, endpoint=False)\n",
    "samples = np.sin(2 * np.pi * f * t_sample)\n",
    "t_interp = np.linspace(0, 1, fs_cont, endpoint=False)\n",
    "signal_interp = resample(samples, fs_cont)\n",
    "\n",
    "plt.plot(t_cont, signal_cont, label='Original')\n",
    "plt.plot(t_interp, signal_interp, '--', label='Reconstructed')\n",
    "plt.legend()\n",
    "plt.title('Signal Reconstruction via Resampling')\n",
    "plt.grid(True)\n",
    "plt.show()"
   ]
  },
  {
   "cell_type": "markdown",
   "metadata": {},
   "source": [
    "## ✅ Reflection:\n",
    "- What happens when you undersample a signal?\n",
    "- How is aliasing detected visually?\n",
    "- What are the limitations of signal reconstruction?"
   ]
  }
 ],
 "metadata": {
  "kernelspec": {
   "display_name": "Python 3",
   "language": "python",
   "name": "python3"
  },
  "language_info": {
   "name": "python",
   "version": ""
  }
 },
 "nbformat": 4,
 "nbformat_minor": 5
}
