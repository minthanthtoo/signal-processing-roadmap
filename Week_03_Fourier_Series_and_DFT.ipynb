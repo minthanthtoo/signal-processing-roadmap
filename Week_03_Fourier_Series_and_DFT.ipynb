{
 "cells": [
  {
   "cell_type": "markdown",
   "metadata": {},
   "source": [
    "# 📘 Week 3: Fourier Series & Discrete Fourier Transform (DFT)\n",
    "\n",
    "## 🎯 Objectives:\n",
    "- Understand Fourier Series and how periodic signals are decomposed into harmonics\n",
    "- Learn the Discrete Fourier Transform (DFT) and Fast Fourier Transform (FFT)\n",
    "- Analyze frequency content of signals\n",
    "- Visualize spectra and interpret results"
   ]
  },
  {
   "cell_type": "markdown",
   "metadata": {},
   "source": [
    "## 🎵 Creating a Periodic Square Wave\n",
    "We'll use a square wave to demonstrate Fourier decomposition."
   ]
  },
  {
   "cell_type": "code",
   "execution_count": null,
   "metadata": {},
   "outputs": [],
   "source": [
    "import numpy as np\n",
    "import matplotlib.pyplot as plt\n",
    "from scipy import signal\n",
    "\n",
    "fs = 1000\n",
    "t = np.linspace(0, 1, fs, endpoint=False)\n",
    "square_wave = signal.square(2 * np.pi * 5 * t)\n",
    "\n",
    "plt.plot(t, square_wave)\n",
    "plt.title('5 Hz Square Wave')\n",
    "plt.xlabel('Time [s]')\n",
    "plt.ylabel('Amplitude')\n",
    "plt.grid(True)\n",
    "plt.show()"
   ]
  },
  {
   "cell_type": "markdown",
   "metadata": {},
   "source": [
    "## 🧠 Fourier Series Intuition\n",
    "- A square wave can be represented as a sum of odd harmonics\n",
    "- We'll demonstrate how adding harmonics reconstructs the wave"
   ]
  },
  {
   "cell_type": "code",
   "execution_count": null,
   "metadata": {},
   "outputs": [],
   "source": [
    "approx = np.zeros_like(t)\n",
    "for k in range(1, 10, 2):  # 1st to 9th odd harmonics\n",
    "    approx += (4 / (np.pi * k)) * np.sin(2 * np.pi * k * 5 * t)\n",
    "\n",
    "plt.plot(t, square_wave, label='Original')\n",
    "plt.plot(t, approx, label='Fourier Approximation (5 harmonics)')\n",
    "plt.title('Fourier Series Approximation of Square Wave')\n",
    "plt.legend()\n",
    "plt.grid(True)\n",
    "plt.show()"
   ]
  },
  {
   "cell_type": "markdown",
   "metadata": {},
   "source": [
    "## ⚡ DFT Using FFT\n",
    "- Apply FFT to analyze frequency spectrum\n",
    "- Plot magnitude spectrum"
   ]
  },
  {
   "cell_type": "code",
   "execution_count": null,
   "metadata": {},
   "outputs": [],
   "source": [
    "from numpy.fft import fft, fftfreq\n",
    "\n",
    "X = fft(square_wave)\n",
    "freqs = fftfreq(len(t), 1/fs)\n",
    "\n",
    "plt.stem(freqs[:fs//2], np.abs(X)[:fs//2], basefmt=' ')\n",
    "plt.title('Magnitude Spectrum of Square Wave')\n",
    "plt.xlabel('Frequency [Hz]')\n",
    "plt.ylabel('|X(f)|')\n",
    "plt.grid(True)\n",
    "plt.show()"
   ]
  },
  {
   "cell_type": "markdown",
   "metadata": {},
   "source": [
    "## 🔍 Spectral Analysis of Mixed Signal\n",
    "- Analyze a signal with 3 frequencies: 50 Hz, 120 Hz, 250 Hz"
   ]
  },
  {
   "cell_type": "code",
   "execution_count": null,
   "metadata": {}, 
   "outputs": [],
   "source": [
    "f1, f2, f3 = 50, 120, 250\n",
    "mixed_signal = np.sin(2*np.pi*f1*t) + 0.5*np.sin(2*np.pi*f2*t) + 0.2*np.sin(2*np.pi*f3*t)\n",
    "X_mixed = fft(mixed_signal)\n",
    "\n",
    "plt.stem(freqs[:fs//2], np.abs(X_mixed)[:fs//2], basefmt=' ')\n",
    "plt.title('Magnitude Spectrum of Mixed Signal')\n",
    "plt.xlabel('Frequency [Hz]')\n",
    "plt.ylabel('|X(f)|')\n",
    "plt.grid(True)\n",
    "plt.show()"
   ]
  },
  {
   "cell_type": "markdown",
   "metadata": {}, 
   "source": [
    "## ✅ Reflection:\n",
    "- How do Fourier Series help visualize a signal’s structure?\n",
    "- What does each peak in the spectrum represent?\n",
    "- How does FFT speed up DFT computation?"
   ]
  }
 ],
 "metadata": {
  "kernelspec": {
   "display_name": "Python 3",
   "language": "python",
   "name": "python3"
  },
  "language_info": {
   "name": "python",
   "version": ""
  }
 },
 "nbformat": 4,
 "nbformat_minor": 5
}
