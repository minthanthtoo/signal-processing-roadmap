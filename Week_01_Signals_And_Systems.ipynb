{
 "cells": [
  {
   "cell_type": "markdown",
   "metadata": {},
   "source": [
    "# 📘 Week 1: Introduction to Signals & Systems\n",
    "Welcome to your first signal processing notebook!\n",
    "\n",
    "## 🎯 Objectives:\n",
    "- Understand the basics of signals (discrete and continuous)\n",
    "- Visualize different types of signals\n",
    "- Perform convolution step-by-step and using NumPy\n",
    "- Reflect on signal transformation through filtering"
   ]
  },
  {
   "cell_type": "markdown",
   "metadata": {},
   "source": [
    "## 📊 Generate and Plot Simple Signals\n",
    "- Sine wave\n",
    "- Square wave\n",
    "- Delta and step functions"
   ]
  },
  {
   "cell_type": "code",
   "execution_count": null,
   "metadata": {},
   "outputs": [],
   "source": [
    "import numpy as np\n",
    "import matplotlib.pyplot as plt\n",
    "\n",
    "t = np.linspace(-1, 1, 500)\n",
    "sine_wave = np.sin(2 * np.pi * 5 * t)\n",
    "square_wave = np.sign(sine_wave)\n",
    "\n",
    "plt.figure(figsize=(12, 4))\n",
    "plt.plot(t, sine_wave, label='Sine Wave (5 Hz)')\n",
    "plt.plot(t, square_wave, label='Square Wave', linestyle='--')\n",
    "plt.title('Basic Signals')\n",
    "plt.xlabel('Time [s]')\n",
    "plt.legend()\n",
    "plt.grid(True)\n",
    "plt.show()"
   ]
  },
  {
   "cell_type": "markdown",
   "metadata": {},
   "source": [
    "## 🧮 Manual Convolution Step-by-Step\n",
    "- Signal: $x[n] = [1, 2, 3]$\n",
    "- Kernel: $h[n] = [0, 1, 0.5]$"
   ]
  },
  {
   "cell_type": "code",
   "execution_count": null,
   "metadata": {},
   "outputs": [],
   "source": [
    "x = [1, 2, 3]\n",
    "h = [0, 1, 0.5]\n",
    "\n",
    "def manual_convolve(x, h):\n",
    "    y = np.zeros(len(x) + len(h) - 1)\n",
    "    for i in range(len(x)):\n",
    "        for j in range(len(h)):\n",
    "            y[i + j] += x[i] * h[j]\n",
    "    return y\n",
    "\n",
    "y_manual = manual_convolve(x, h)\n",
    "print(\"Manual Convolution Result:\", y_manual)"
   ]
  },
  {
   "cell_type": "markdown",
   "metadata": {},
   "source": [
    "## 🧪 NumPy Convolution for Verification"
   ]
  },
  {
   "cell_type": "code",
   "execution_count": null,
   "metadata": {},
   "outputs": [],
   "source": [
    "y_numpy = np.convolve(x, h)\n",
    "print(\"NumPy Convolution Result:\", y_numpy)\n",
    "assert np.allclose(y_manual, y_numpy), \"Mismatch in convolution outputs!\""
   ]
  },
  {
   "cell_type": "markdown",
   "metadata": {},
   "source": [
    "## 🧠 Time-Shift and Scaling Effects\n",
    "- Apply time shift and plot\n",
    "- Apply amplitude scaling"
   ]
  },
  {
   "cell_type": "code",
   "execution_count": null,
   "metadata": {},
   "outputs": [],
   "source": [
    "shifted = np.roll(sine_wave, 100)\n",
    "scaled = 2 * sine_wave\n",
    "\n",
    "plt.figure(figsize=(12, 4))\n",
    "plt.plot(t, sine_wave, label='Original')\n",
    "plt.plot(t, shifted, label='Time-Shifted')\n",
    "plt.plot(t, scaled, label='Scaled (2x)')\n",
    "plt.legend()\n",
    "plt.title('Time & Amplitude Transformations')\n",
    "plt.grid(True)\n",
    "plt.show()"
   ]
  },
  {
   "cell_type": "markdown",
   "metadata": {},
   "source": [
    "## 🧪 Mini Project: Custom Signal Filtering\n",
    "- Create a signal with step + spike\n",
    "- Convolve with `[0.2, 0.2, 0.2, 0.2, 0.2]` (moving average filter)\n",
    "- Plot and analyze"
   ]
  },
  {
   "cell_type": "code",
   "execution_count": null,
   "metadata": {},
   "outputs": [],
   "source": [
    "signal = np.zeros(50)\n",
    "signal[10:20] = 1  # Step\n",
    "signal[25] = 2     # Spike\n",
    "kernel = np.ones(5) / 5\n",
    "\n",
    "filtered = np.convolve(signal, kernel, mode='same')\n",
    "\n",
    "plt.plot(signal, label='Original Signal')\n",
    "plt.plot(filtered, label='Filtered (Moving Avg)', linestyle='--')\n",
    "plt.legend()\n",
    "plt.title('Simple Signal Smoothing')\n",
    "plt.grid(True)\n",
    "plt.show()"
   ]
  },
  {
   "cell_type": "markdown",
   "metadata": {},
   "source": [
    "## ✅ Reflection:\n",
    "- What did the convolution do to the step?\n",
    "- How did the spike change?\n",
    "- Where could this kind of filter be useful?"
   ]
  }
 ],
 "metadata": {
  "kernelspec": {
   "display_name": "Python 3",
   "language": "python",
   "name": "python3"
  },
  "language_info": {
   "name": "python",
   "version": ""
  }
 },
 "nbformat": 4,
 "nbformat_minor": 5
}
